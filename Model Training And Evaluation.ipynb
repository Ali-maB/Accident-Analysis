{
 "cells": [
  {
   "cell_type": "code",
   "execution_count": 1,
   "metadata": {},
   "outputs": [],
   "source": [
    "import pandas as pd\n",
    "from sklearn.model_selection import train_test_split\n",
    "from sklearn.tree import DecisionTreeClassifier\n",
    "from sklearn.metrics import classification_report"
   ]
  },
  {
   "cell_type": "code",
   "execution_count": 2,
   "metadata": {},
   "outputs": [
    {
     "data": {
      "text/html": [
       "<div>\n",
       "<style scoped>\n",
       "    .dataframe tbody tr th:only-of-type {\n",
       "        vertical-align: middle;\n",
       "    }\n",
       "\n",
       "    .dataframe tbody tr th {\n",
       "        vertical-align: top;\n",
       "    }\n",
       "\n",
       "    .dataframe thead th {\n",
       "        text-align: right;\n",
       "    }\n",
       "</style>\n",
       "<table border=\"1\" class=\"dataframe\">\n",
       "  <thead>\n",
       "    <tr style=\"text-align: right;\">\n",
       "      <th></th>\n",
       "      <th>accident_reference</th>\n",
       "      <th>vehicle_reference</th>\n",
       "      <th>casualty_reference</th>\n",
       "      <th>casualty_class</th>\n",
       "      <th>sex_of_casualty</th>\n",
       "      <th>age_of_casualty</th>\n",
       "      <th>age_band_of_casualty</th>\n",
       "      <th>casualty_severity</th>\n",
       "      <th>casualty_type</th>\n",
       "      <th>casualty_home_area_type</th>\n",
       "      <th>casualty_imd_decile</th>\n",
       "    </tr>\n",
       "  </thead>\n",
       "  <tbody>\n",
       "    <tr>\n",
       "      <th>0</th>\n",
       "      <td>070151244</td>\n",
       "      <td>2</td>\n",
       "      <td>1</td>\n",
       "      <td>Driver/Rider</td>\n",
       "      <td>Female</td>\n",
       "      <td>46.0</td>\n",
       "      <td>46 - 55</td>\n",
       "      <td>Slight</td>\n",
       "      <td>Car occupant</td>\n",
       "      <td>Urban area</td>\n",
       "      <td>9</td>\n",
       "    </tr>\n",
       "    <tr>\n",
       "      <th>1</th>\n",
       "      <td>070152668</td>\n",
       "      <td>1</td>\n",
       "      <td>1</td>\n",
       "      <td>Driver/Rider</td>\n",
       "      <td>Male</td>\n",
       "      <td>30.0</td>\n",
       "      <td>26 - 35</td>\n",
       "      <td>Slight</td>\n",
       "      <td>Car occupant</td>\n",
       "      <td>Urban area</td>\n",
       "      <td>2</td>\n",
       "    </tr>\n",
       "    <tr>\n",
       "      <th>2</th>\n",
       "      <td>070154696</td>\n",
       "      <td>1</td>\n",
       "      <td>1</td>\n",
       "      <td>Driver/Rider</td>\n",
       "      <td>Female</td>\n",
       "      <td>58.0</td>\n",
       "      <td>56 - 65</td>\n",
       "      <td>Slight</td>\n",
       "      <td>Car occupant</td>\n",
       "      <td>Urban area</td>\n",
       "      <td>10</td>\n",
       "    </tr>\n",
       "    <tr>\n",
       "      <th>3</th>\n",
       "      <td>070154696</td>\n",
       "      <td>2</td>\n",
       "      <td>3</td>\n",
       "      <td>Driver/Rider</td>\n",
       "      <td>Female</td>\n",
       "      <td>78.0</td>\n",
       "      <td>Over 75</td>\n",
       "      <td>Slight</td>\n",
       "      <td>Car occupant</td>\n",
       "      <td>Small town</td>\n",
       "      <td>10</td>\n",
       "    </tr>\n",
       "    <tr>\n",
       "      <th>4</th>\n",
       "      <td>070154696</td>\n",
       "      <td>3</td>\n",
       "      <td>2</td>\n",
       "      <td>Driver/Rider</td>\n",
       "      <td>Male</td>\n",
       "      <td>63.0</td>\n",
       "      <td>56 - 65</td>\n",
       "      <td>Slight</td>\n",
       "      <td>Car occupant</td>\n",
       "      <td>Rural</td>\n",
       "      <td>7</td>\n",
       "    </tr>\n",
       "  </tbody>\n",
       "</table>\n",
       "</div>"
      ],
      "text/plain": [
       "  accident_reference  vehicle_reference  casualty_reference casualty_class  \\\n",
       "0          070151244                  2                   1   Driver/Rider   \n",
       "1          070152668                  1                   1   Driver/Rider   \n",
       "2          070154696                  1                   1   Driver/Rider   \n",
       "3          070154696                  2                   3   Driver/Rider   \n",
       "4          070154696                  3                   2   Driver/Rider   \n",
       "\n",
       "  sex_of_casualty  age_of_casualty age_band_of_casualty casualty_severity  \\\n",
       "0          Female             46.0              46 - 55            Slight   \n",
       "1            Male             30.0              26 - 35            Slight   \n",
       "2          Female             58.0              56 - 65            Slight   \n",
       "3          Female             78.0              Over 75            Slight   \n",
       "4            Male             63.0              56 - 65            Slight   \n",
       "\n",
       "  casualty_type casualty_home_area_type  casualty_imd_decile  \n",
       "0  Car occupant              Urban area                    9  \n",
       "1  Car occupant              Urban area                    2  \n",
       "2  Car occupant              Urban area                   10  \n",
       "3  Car occupant              Small town                   10  \n",
       "4  Car occupant                   Rural                    7  "
      ]
     },
     "execution_count": 2,
     "metadata": {},
     "output_type": "execute_result"
    }
   ],
   "source": [
    "data = pd.read_csv('model_data.csv')\n",
    "data.head()"
   ]
  },
  {
   "cell_type": "code",
   "execution_count": 3,
   "metadata": {},
   "outputs": [],
   "source": [
    "X = data.drop(columns=['accident_reference', 'vehicle_reference', 'casualty_reference',\n",
    "               'casualty_severity'])\n",
    "\n",
    "y = data[['casualty_severity']]"
   ]
  },
  {
   "cell_type": "code",
   "execution_count": 4,
   "metadata": {},
   "outputs": [],
   "source": [
    "X = pd.get_dummies(X)"
   ]
  },
  {
   "cell_type": "code",
   "execution_count": 5,
   "metadata": {},
   "outputs": [],
   "source": [
    "X_train, X_test, y_train, y_test = train_test_split(X, y, random_state=1234)"
   ]
  },
  {
   "cell_type": "code",
   "execution_count": 6,
   "metadata": {},
   "outputs": [
    {
     "data": {
      "text/plain": [
       "DecisionTreeClassifier()"
      ]
     },
     "execution_count": 6,
     "metadata": {},
     "output_type": "execute_result"
    }
   ],
   "source": [
    "model = DecisionTreeClassifier()\n",
    "model.fit(X_train, y_train)"
   ]
  },
  {
   "cell_type": "code",
   "execution_count": 7,
   "metadata": {},
   "outputs": [
    {
     "name": "stdout",
     "output_type": "stream",
     "text": [
      "              precision    recall  f1-score   support\n",
      "\n",
      "       Fatal       0.01      0.01      0.01       151\n",
      "     Serious       0.28      0.22      0.25      2566\n",
      "      Slight       0.82      0.86      0.84     10746\n",
      "\n",
      "    accuracy                           0.73     13463\n",
      "   macro avg       0.37      0.36      0.36     13463\n",
      "weighted avg       0.71      0.73      0.72     13463\n",
      "\n"
     ]
    }
   ],
   "source": [
    "y_pred = model.predict(X_test)\n",
    "print(classification_report(y_test, y_pred))"
   ]
  },
  {
   "cell_type": "code",
   "execution_count": 8,
   "metadata": {},
   "outputs": [
    {
     "name": "stderr",
     "output_type": "stream",
     "text": [
      "/home/ali/anaconda3/lib/python3.7/site-packages/ipykernel_launcher.py:3: DataConversionWarning: A column-vector y was passed when a 1d array was expected. Please change the shape of y to (n_samples,), for example using ravel().\n",
      "  This is separate from the ipykernel package so we can avoid doing imports until\n"
     ]
    },
    {
     "data": {
      "text/plain": [
       "RandomForestClassifier()"
      ]
     },
     "execution_count": 8,
     "metadata": {},
     "output_type": "execute_result"
    }
   ],
   "source": [
    "from sklearn.ensemble import RandomForestClassifier\n",
    "rfc_model = RandomForestClassifier()\n",
    "rfc_model.fit(X_train, y_train)"
   ]
  },
  {
   "cell_type": "code",
   "execution_count": 9,
   "metadata": {},
   "outputs": [
    {
     "name": "stdout",
     "output_type": "stream",
     "text": [
      "              precision    recall  f1-score   support\n",
      "\n",
      "       Fatal       0.00      0.00      0.00       151\n",
      "     Serious       0.31      0.16      0.21      2566\n",
      "      Slight       0.81      0.91      0.86     10746\n",
      "\n",
      "    accuracy                           0.76     13463\n",
      "   macro avg       0.37      0.36      0.36     13463\n",
      "weighted avg       0.71      0.76      0.73     13463\n",
      "\n"
     ]
    }
   ],
   "source": [
    "print(classification_report(y_test, rfc_model.predict(X_test)))"
   ]
  },
  {
   "cell_type": "code",
   "execution_count": 12,
   "metadata": {
    "scrolled": true
   },
   "outputs": [
    {
     "name": "stdout",
     "output_type": "stream",
     "text": [
      "Requirement already satisfied: imbalanced-learn in /home/ali/anaconda3/lib/python3.7/site-packages (0.12.0)\r\n",
      "Requirement already satisfied: numpy>=1.17.3 in /home/ali/anaconda3/lib/python3.7/site-packages (from imbalanced-learn) (1.21.6)\r\n",
      "Requirement already satisfied: scipy>=1.5.0 in /home/ali/anaconda3/lib/python3.7/site-packages (from imbalanced-learn) (1.7.3)\r\n",
      "Requirement already satisfied: scikit-learn>=1.0.2 in /home/ali/anaconda3/lib/python3.7/site-packages (from imbalanced-learn) (1.0.2)\r\n",
      "Requirement already satisfied: joblib>=1.1.1 in /home/ali/anaconda3/lib/python3.7/site-packages (from imbalanced-learn) (1.3.2)\r\n",
      "Requirement already satisfied: threadpoolctl>=2.0.0 in /home/ali/anaconda3/lib/python3.7/site-packages (from imbalanced-learn) (3.1.0)\r\n"
     ]
    }
   ],
   "source": [
    "! pip install imbalanced-learn"
   ]
  },
  {
   "cell_type": "code",
   "execution_count": 13,
   "metadata": {},
   "outputs": [],
   "source": [
    "from imblearn.over_sampling import RandomOverSampler\n",
    "ros = RandomOverSampler()\n",
    "X_resampled, y_resampled = ros.fit_resample(X_train, y_train)\n"
   ]
  },
  {
   "cell_type": "code",
   "execution_count": 14,
   "metadata": {},
   "outputs": [
    {
     "name": "stdout",
     "output_type": "stream",
     "text": [
      "              precision    recall  f1-score   support\n",
      "\n",
      "       Fatal       0.01      0.05      0.02       151\n",
      "     Serious       0.23      0.36      0.28      2566\n",
      "      Slight       0.82      0.65      0.73     10746\n",
      "\n",
      "    accuracy                           0.59     13463\n",
      "   macro avg       0.35      0.36      0.34     13463\n",
      "weighted avg       0.70      0.59      0.63     13463\n",
      "\n"
     ]
    }
   ],
   "source": [
    "dtc_model_resampled = DecisionTreeClassifier()\n",
    "dtc_model_resampled.fit(X_resampled, y_resampled)\n",
    "print(classification_report(y_test, dtc_model_resampled.predict(X_test)))"
   ]
  },
  {
   "cell_type": "code",
   "execution_count": 15,
   "metadata": {},
   "outputs": [
    {
     "name": "stdout",
     "output_type": "stream",
     "text": [
      "              precision    recall  f1-score   support\n",
      "\n",
      "       Fatal       0.21      1.00      0.35       489\n",
      "     Serious       0.47      0.81      0.60      7722\n",
      "      Slight       0.95      0.74      0.83     32178\n",
      "\n",
      "    accuracy                           0.75     40389\n",
      "   macro avg       0.55      0.85      0.59     40389\n",
      "weighted avg       0.85      0.75      0.78     40389\n",
      "\n"
     ]
    }
   ],
   "source": [
    "print(classification_report(y_train, dtc_model_resampled.predict(X_train)))"
   ]
  },
  {
   "cell_type": "code",
   "execution_count": 16,
   "metadata": {},
   "outputs": [
    {
     "name": "stderr",
     "output_type": "stream",
     "text": [
      "/home/ali/anaconda3/lib/python3.7/site-packages/sklearn/utils/validation.py:993: DataConversionWarning: A column-vector y was passed when a 1d array was expected. Please change the shape of y to (n_samples, ), for example using ravel().\n",
      "  y = column_or_1d(y, warn=True)\n"
     ]
    },
    {
     "name": "stdout",
     "output_type": "stream",
     "text": [
      "              precision    recall  f1-score   support\n",
      "\n",
      "       Fatal       0.02      0.41      0.05       151\n",
      "     Serious       0.22      0.39      0.28      2566\n",
      "      Slight       0.87      0.53      0.66     10746\n",
      "\n",
      "    accuracy                           0.50     13463\n",
      "   macro avg       0.37      0.44      0.33     13463\n",
      "weighted avg       0.74      0.50      0.58     13463\n",
      "\n"
     ]
    }
   ],
   "source": [
    "from sklearn.svm import SVC\n",
    "svc_model = SVC()\n",
    "svc_model.fit(X_resampled, y_resampled)\n",
    "print(classification_report(y_test, svc_model.predict(X_test)))"
   ]
  },
  {
   "cell_type": "code",
   "execution_count": 17,
   "metadata": {
    "scrolled": true
   },
   "outputs": [
    {
     "ename": "KeyboardInterrupt",
     "evalue": "",
     "output_type": "error",
     "traceback": [
      "\u001b[0;31m---------------------------------------------------------------------------\u001b[0m",
      "\u001b[0;31mKeyboardInterrupt\u001b[0m                         Traceback (most recent call last)",
      "\u001b[0;32m<ipython-input-17-1e18403a4adb>\u001b[0m in \u001b[0;36m<module>\u001b[0;34m()\u001b[0m\n\u001b[0;32m----> 1\u001b[0;31m \u001b[0mprint\u001b[0m\u001b[0;34m(\u001b[0m\u001b[0mclassification_report\u001b[0m\u001b[0;34m(\u001b[0m\u001b[0my_train\u001b[0m\u001b[0;34m,\u001b[0m \u001b[0msvc_model\u001b[0m\u001b[0;34m.\u001b[0m\u001b[0mpredict\u001b[0m\u001b[0;34m(\u001b[0m\u001b[0mX_train\u001b[0m\u001b[0;34m)\u001b[0m\u001b[0;34m)\u001b[0m\u001b[0;34m)\u001b[0m\u001b[0;34m\u001b[0m\u001b[0m\n\u001b[0m",
      "\u001b[0;32m~/anaconda3/lib/python3.7/site-packages/sklearn/svm/_base.py\u001b[0m in \u001b[0;36mpredict\u001b[0;34m(self, X)\u001b[0m\n\u001b[1;32m    789\u001b[0m             \u001b[0my\u001b[0m \u001b[0;34m=\u001b[0m \u001b[0mnp\u001b[0m\u001b[0;34m.\u001b[0m\u001b[0margmax\u001b[0m\u001b[0;34m(\u001b[0m\u001b[0mself\u001b[0m\u001b[0;34m.\u001b[0m\u001b[0mdecision_function\u001b[0m\u001b[0;34m(\u001b[0m\u001b[0mX\u001b[0m\u001b[0;34m)\u001b[0m\u001b[0;34m,\u001b[0m \u001b[0maxis\u001b[0m\u001b[0;34m=\u001b[0m\u001b[0;36m1\u001b[0m\u001b[0;34m)\u001b[0m\u001b[0;34m\u001b[0m\u001b[0m\n\u001b[1;32m    790\u001b[0m         \u001b[0;32melse\u001b[0m\u001b[0;34m:\u001b[0m\u001b[0;34m\u001b[0m\u001b[0m\n\u001b[0;32m--> 791\u001b[0;31m             \u001b[0my\u001b[0m \u001b[0;34m=\u001b[0m \u001b[0msuper\u001b[0m\u001b[0;34m(\u001b[0m\u001b[0;34m)\u001b[0m\u001b[0;34m.\u001b[0m\u001b[0mpredict\u001b[0m\u001b[0;34m(\u001b[0m\u001b[0mX\u001b[0m\u001b[0;34m)\u001b[0m\u001b[0;34m\u001b[0m\u001b[0m\n\u001b[0m\u001b[1;32m    792\u001b[0m         \u001b[0;32mreturn\u001b[0m \u001b[0mself\u001b[0m\u001b[0;34m.\u001b[0m\u001b[0mclasses_\u001b[0m\u001b[0;34m.\u001b[0m\u001b[0mtake\u001b[0m\u001b[0;34m(\u001b[0m\u001b[0mnp\u001b[0m\u001b[0;34m.\u001b[0m\u001b[0masarray\u001b[0m\u001b[0;34m(\u001b[0m\u001b[0my\u001b[0m\u001b[0;34m,\u001b[0m \u001b[0mdtype\u001b[0m\u001b[0;34m=\u001b[0m\u001b[0mnp\u001b[0m\u001b[0;34m.\u001b[0m\u001b[0mintp\u001b[0m\u001b[0;34m)\u001b[0m\u001b[0;34m)\u001b[0m\u001b[0;34m\u001b[0m\u001b[0m\n\u001b[1;32m    793\u001b[0m \u001b[0;34m\u001b[0m\u001b[0m\n",
      "\u001b[0;32m~/anaconda3/lib/python3.7/site-packages/sklearn/svm/_base.py\u001b[0m in \u001b[0;36mpredict\u001b[0;34m(self, X)\u001b[0m\n\u001b[1;32m    414\u001b[0m         \u001b[0mX\u001b[0m \u001b[0;34m=\u001b[0m \u001b[0mself\u001b[0m\u001b[0;34m.\u001b[0m\u001b[0m_validate_for_predict\u001b[0m\u001b[0;34m(\u001b[0m\u001b[0mX\u001b[0m\u001b[0;34m)\u001b[0m\u001b[0;34m\u001b[0m\u001b[0m\n\u001b[1;32m    415\u001b[0m         \u001b[0mpredict\u001b[0m \u001b[0;34m=\u001b[0m \u001b[0mself\u001b[0m\u001b[0;34m.\u001b[0m\u001b[0m_sparse_predict\u001b[0m \u001b[0;32mif\u001b[0m \u001b[0mself\u001b[0m\u001b[0;34m.\u001b[0m\u001b[0m_sparse\u001b[0m \u001b[0;32melse\u001b[0m \u001b[0mself\u001b[0m\u001b[0;34m.\u001b[0m\u001b[0m_dense_predict\u001b[0m\u001b[0;34m\u001b[0m\u001b[0m\n\u001b[0;32m--> 416\u001b[0;31m         \u001b[0;32mreturn\u001b[0m \u001b[0mpredict\u001b[0m\u001b[0;34m(\u001b[0m\u001b[0mX\u001b[0m\u001b[0;34m)\u001b[0m\u001b[0;34m\u001b[0m\u001b[0m\n\u001b[0m\u001b[1;32m    417\u001b[0m \u001b[0;34m\u001b[0m\u001b[0m\n\u001b[1;32m    418\u001b[0m     \u001b[0;32mdef\u001b[0m \u001b[0m_dense_predict\u001b[0m\u001b[0;34m(\u001b[0m\u001b[0mself\u001b[0m\u001b[0;34m,\u001b[0m \u001b[0mX\u001b[0m\u001b[0;34m)\u001b[0m\u001b[0;34m:\u001b[0m\u001b[0;34m\u001b[0m\u001b[0m\n",
      "\u001b[0;32m~/anaconda3/lib/python3.7/site-packages/sklearn/svm/_base.py\u001b[0m in \u001b[0;36m_dense_predict\u001b[0;34m(self, X)\u001b[0m\n\u001b[1;32m    447\u001b[0m             \u001b[0mcoef0\u001b[0m\u001b[0;34m=\u001b[0m\u001b[0mself\u001b[0m\u001b[0;34m.\u001b[0m\u001b[0mcoef0\u001b[0m\u001b[0;34m,\u001b[0m\u001b[0;34m\u001b[0m\u001b[0m\n\u001b[1;32m    448\u001b[0m             \u001b[0mgamma\u001b[0m\u001b[0;34m=\u001b[0m\u001b[0mself\u001b[0m\u001b[0;34m.\u001b[0m\u001b[0m_gamma\u001b[0m\u001b[0;34m,\u001b[0m\u001b[0;34m\u001b[0m\u001b[0m\n\u001b[0;32m--> 449\u001b[0;31m             \u001b[0mcache_size\u001b[0m\u001b[0;34m=\u001b[0m\u001b[0mself\u001b[0m\u001b[0;34m.\u001b[0m\u001b[0mcache_size\u001b[0m\u001b[0;34m,\u001b[0m\u001b[0;34m\u001b[0m\u001b[0m\n\u001b[0m\u001b[1;32m    450\u001b[0m         )\n\u001b[1;32m    451\u001b[0m \u001b[0;34m\u001b[0m\u001b[0m\n",
      "\u001b[0;31mKeyboardInterrupt\u001b[0m: "
     ]
    }
   ],
   "source": [
    "print(classification_report(y_train, svc_model.predict(X_train)))"
   ]
  },
  {
   "cell_type": "code",
   "execution_count": 19,
   "metadata": {},
   "outputs": [],
   "source": [
    "import pickle\n",
    "data_to_save = {\n",
    "    'X': X,\n",
    "    'y': y,\n",
    "    'X_resampled': X_resampled,\n",
    "    'y_resampled': y_resampled,\n",
    "    'model': model,\n",
    "    'rfc_model': rfc_model,\n",
    "    # 'ros': ros,\n",
    "    'dtc_model_resampled': dtc_model_resampled,\n",
    "    'svc_model': svc_model,\n",
    "}\n",
    "with open('modeling_data.pkl', 'wb') as f:\n",
    "    pickle.dump(data_to_save, f)"
   ]
  },
  {
   "cell_type": "code",
   "execution_count": 21,
   "metadata": {
    "scrolled": false
   },
   "outputs": [
    {
     "ename": "SyntaxError",
     "evalue": "invalid syntax (_metadata_requests.py, line 1492)",
     "output_type": "error",
     "traceback": [
      "Traceback \u001b[0;36m(most recent call last)\u001b[0m:\n",
      "  File \u001b[1;32m\"/home/ali/anaconda3/lib/python3.7/site-packages/IPython/core/interactiveshell.py\"\u001b[0m, line \u001b[1;32m2961\u001b[0m, in \u001b[1;35mrun_code\u001b[0m\n    exec(code_obj, self.user_global_ns, self.user_ns)\n",
      "  File \u001b[1;32m\"<ipython-input-21-02a3370d558c>\"\u001b[0m, line \u001b[1;32m2\u001b[0m, in \u001b[1;35m<module>\u001b[0m\n    joblib.dump(ros, 'over_sampler_model.pkl')\n",
      "  File \u001b[1;32m\"/home/ali/anaconda3/lib/python3.7/site-packages/joblib/numpy_pickle.py\"\u001b[0m, line \u001b[1;32m553\u001b[0m, in \u001b[1;35mdump\u001b[0m\n    NumpyPickler(f, protocol=protocol).dump(value)\n",
      "  File \u001b[1;32m\"/home/ali/anaconda3/lib/python3.7/pickle.py\"\u001b[0m, line \u001b[1;32m437\u001b[0m, in \u001b[1;35mdump\u001b[0m\n    self.save(obj)\n",
      "  File \u001b[1;32m\"/home/ali/anaconda3/lib/python3.7/site-packages/joblib/numpy_pickle.py\"\u001b[0m, line \u001b[1;32m355\u001b[0m, in \u001b[1;35msave\u001b[0m\n    return Pickler.save(self, obj)\n",
      "  File \u001b[1;32m\"/home/ali/anaconda3/lib/python3.7/pickle.py\"\u001b[0m, line \u001b[1;32m549\u001b[0m, in \u001b[1;35msave\u001b[0m\n    self.save_reduce(obj=obj, *rv)\n",
      "  File \u001b[1;32m\"/home/ali/anaconda3/lib/python3.7/pickle.py\"\u001b[0m, line \u001b[1;32m633\u001b[0m, in \u001b[1;35msave_reduce\u001b[0m\n    save(cls)\n",
      "  File \u001b[1;32m\"/home/ali/anaconda3/lib/python3.7/site-packages/joblib/numpy_pickle.py\"\u001b[0m, line \u001b[1;32m355\u001b[0m, in \u001b[1;35msave\u001b[0m\n    return Pickler.save(self, obj)\n",
      "  File \u001b[1;32m\"/home/ali/anaconda3/lib/python3.7/pickle.py\"\u001b[0m, line \u001b[1;32m518\u001b[0m, in \u001b[1;35msave\u001b[0m\n    self.save_global(obj)\n",
      "  File \u001b[1;32m\"/home/ali/anaconda3/lib/python3.7/pickle.py\"\u001b[0m, line \u001b[1;32m951\u001b[0m, in \u001b[1;35msave_global\u001b[0m\n    __import__(module_name, level=0)\n",
      "  File \u001b[1;32m\"/home/ali/anaconda3/lib/python3.7/site-packages/imblearn/__init__.py\"\u001b[0m, line \u001b[1;32m52\u001b[0m, in \u001b[1;35m<module>\u001b[0m\n    from . import (\n",
      "  File \u001b[1;32m\"/home/ali/anaconda3/lib/python3.7/site-packages/imblearn/ensemble/__init__.py\"\u001b[0m, line \u001b[1;32m6\u001b[0m, in \u001b[1;35m<module>\u001b[0m\n    from ._bagging import BalancedBaggingClassifier\n",
      "  File \u001b[1;32m\"/home/ali/anaconda3/lib/python3.7/site-packages/imblearn/ensemble/_bagging.py\"\u001b[0m, line \u001b[1;32m30\u001b[0m, in \u001b[1;35m<module>\u001b[0m\n    from ..pipeline import Pipeline\n",
      "\u001b[0;36m  File \u001b[0;32m\"/home/ali/anaconda3/lib/python3.7/site-packages/imblearn/pipeline.py\"\u001b[0;36m, line \u001b[0;32m22\u001b[0;36m, in \u001b[0;35m<module>\u001b[0;36m\u001b[0m\n\u001b[0;31m    from .utils._metadata_requests import (\u001b[0m\n",
      "\u001b[0;36m  File \u001b[0;32m\"/home/ali/anaconda3/lib/python3.7/site-packages/imblearn/utils/_metadata_requests.py\"\u001b[0;36m, line \u001b[0;32m1492\u001b[0m\n\u001b[0;31m    def process_routing(_obj, _method, /, **kwargs):\u001b[0m\n\u001b[0m                                       ^\u001b[0m\n\u001b[0;31mSyntaxError\u001b[0m\u001b[0;31m:\u001b[0m invalid syntax\n"
     ]
    }
   ],
   "source": [
    "import joblib\n",
    "joblib.dump(ros, 'over_sampler_model.pkl')"
   ]
  },
  {
   "cell_type": "code",
   "execution_count": 22,
   "metadata": {},
   "outputs": [
    {
     "name": "stdout",
     "output_type": "stream",
     "text": [
      "Collecting dill\n",
      "  Downloading dill-0.3.7-py3-none-any.whl.metadata (9.9 kB)\n",
      "Downloading dill-0.3.7-py3-none-any.whl (115 kB)\n",
      "\u001b[2K   \u001b[38;2;114;156;31m━━━━━━━━━━━━━━━━━━━━━━━━━━━━━━━━━━━━━━━\u001b[0m \u001b[32m115.3/115.3 kB\u001b[0m \u001b[31m379.4 kB/s\u001b[0m eta \u001b[36m0:00:00\u001b[0m1m490.2 kB/s\u001b[0m eta \u001b[36m0:00:01\u001b[0m\n",
      "\u001b[?25hInstalling collected packages: dill\n",
      "Successfully installed dill-0.3.7\n"
     ]
    }
   ],
   "source": [
    "! pip install dill"
   ]
  },
  {
   "cell_type": "code",
   "execution_count": 23,
   "metadata": {},
   "outputs": [
    {
     "ename": "SyntaxError",
     "evalue": "invalid syntax (_metadata_requests.py, line 1492)",
     "output_type": "error",
     "traceback": [
      "Traceback \u001b[0;36m(most recent call last)\u001b[0m:\n",
      "  File \u001b[1;32m\"/home/ali/anaconda3/lib/python3.7/site-packages/IPython/core/interactiveshell.py\"\u001b[0m, line \u001b[1;32m2961\u001b[0m, in \u001b[1;35mrun_code\u001b[0m\n    exec(code_obj, self.user_global_ns, self.user_ns)\n",
      "  File \u001b[1;32m\"<ipython-input-23-755c6b327bc8>\"\u001b[0m, line \u001b[1;32m4\u001b[0m, in \u001b[1;35m<module>\u001b[0m\n    dill.dump(ros, file)\n",
      "  File \u001b[1;32m\"/home/ali/anaconda3/lib/python3.7/site-packages/dill/_dill.py\"\u001b[0m, line \u001b[1;32m250\u001b[0m, in \u001b[1;35mdump\u001b[0m\n    Pickler(file, protocol, **_kwds).dump(obj)\n",
      "  File \u001b[1;32m\"/home/ali/anaconda3/lib/python3.7/site-packages/dill/_dill.py\"\u001b[0m, line \u001b[1;32m418\u001b[0m, in \u001b[1;35mdump\u001b[0m\n    StockPickler.dump(self, obj)\n",
      "  File \u001b[1;32m\"/home/ali/anaconda3/lib/python3.7/pickle.py\"\u001b[0m, line \u001b[1;32m437\u001b[0m, in \u001b[1;35mdump\u001b[0m\n    self.save(obj)\n",
      "  File \u001b[1;32m\"/home/ali/anaconda3/lib/python3.7/site-packages/dill/_dill.py\"\u001b[0m, line \u001b[1;32m412\u001b[0m, in \u001b[1;35msave\u001b[0m\n    StockPickler.save(self, obj, save_persistent_id)\n",
      "  File \u001b[1;32m\"/home/ali/anaconda3/lib/python3.7/pickle.py\"\u001b[0m, line \u001b[1;32m549\u001b[0m, in \u001b[1;35msave\u001b[0m\n    self.save_reduce(obj=obj, *rv)\n",
      "  File \u001b[1;32m\"/home/ali/anaconda3/lib/python3.7/pickle.py\"\u001b[0m, line \u001b[1;32m633\u001b[0m, in \u001b[1;35msave_reduce\u001b[0m\n    save(cls)\n",
      "  File \u001b[1;32m\"/home/ali/anaconda3/lib/python3.7/site-packages/dill/_dill.py\"\u001b[0m, line \u001b[1;32m412\u001b[0m, in \u001b[1;35msave\u001b[0m\n    StockPickler.save(self, obj, save_persistent_id)\n",
      "  File \u001b[1;32m\"/home/ali/anaconda3/lib/python3.7/pickle.py\"\u001b[0m, line \u001b[1;32m504\u001b[0m, in \u001b[1;35msave\u001b[0m\n    f(self, obj) # Call unbound method with explicit self\n",
      "  File \u001b[1;32m\"/home/ali/anaconda3/lib/python3.7/site-packages/dill/_dill.py\"\u001b[0m, line \u001b[1;32m1849\u001b[0m, in \u001b[1;35msave_type\u001b[0m\n    StockPickler.save_global(pickler, obj, name=obj_name)\n",
      "  File \u001b[1;32m\"/home/ali/anaconda3/lib/python3.7/pickle.py\"\u001b[0m, line \u001b[1;32m951\u001b[0m, in \u001b[1;35msave_global\u001b[0m\n    __import__(module_name, level=0)\n",
      "  File \u001b[1;32m\"/home/ali/anaconda3/lib/python3.7/site-packages/imblearn/__init__.py\"\u001b[0m, line \u001b[1;32m52\u001b[0m, in \u001b[1;35m<module>\u001b[0m\n    from . import (\n",
      "  File \u001b[1;32m\"/home/ali/anaconda3/lib/python3.7/site-packages/imblearn/ensemble/__init__.py\"\u001b[0m, line \u001b[1;32m6\u001b[0m, in \u001b[1;35m<module>\u001b[0m\n    from ._bagging import BalancedBaggingClassifier\n",
      "  File \u001b[1;32m\"/home/ali/anaconda3/lib/python3.7/site-packages/imblearn/ensemble/_bagging.py\"\u001b[0m, line \u001b[1;32m30\u001b[0m, in \u001b[1;35m<module>\u001b[0m\n    from ..pipeline import Pipeline\n",
      "\u001b[0;36m  File \u001b[0;32m\"/home/ali/anaconda3/lib/python3.7/site-packages/imblearn/pipeline.py\"\u001b[0;36m, line \u001b[0;32m22\u001b[0;36m, in \u001b[0;35m<module>\u001b[0;36m\u001b[0m\n\u001b[0;31m    from .utils._metadata_requests import (\u001b[0m\n",
      "\u001b[0;36m  File \u001b[0;32m\"/home/ali/anaconda3/lib/python3.7/site-packages/imblearn/utils/_metadata_requests.py\"\u001b[0;36m, line \u001b[0;32m1492\u001b[0m\n\u001b[0;31m    def process_routing(_obj, _method, /, **kwargs):\u001b[0m\n\u001b[0m                                       ^\u001b[0m\n\u001b[0;31mSyntaxError\u001b[0m\u001b[0;31m:\u001b[0m invalid syntax\n"
     ]
    }
   ],
   "source": [
    "import dill\n",
    "\n",
    "with open('oversampler.dill', 'wb') as file:\n",
    "    dill.dump(ros, file)"
   ]
  },
  {
   "cell_type": "code",
   "execution_count": 25,
   "metadata": {},
   "outputs": [
    {
     "name": "stdout",
     "output_type": "stream",
     "text": [
      "Python 3.7.0\r\n"
     ]
    }
   ],
   "source": [
    "! python --version"
   ]
  },
  {
   "cell_type": "code",
   "execution_count": null,
   "metadata": {},
   "outputs": [],
   "source": []
  }
 ],
 "metadata": {
  "kernelspec": {
   "display_name": "Python 3",
   "language": "python",
   "name": "python3"
  },
  "language_info": {
   "codemirror_mode": {
    "name": "ipython",
    "version": 3
   },
   "file_extension": ".py",
   "mimetype": "text/x-python",
   "name": "python",
   "nbconvert_exporter": "python",
   "pygments_lexer": "ipython3",
   "version": "3.7.0"
  }
 },
 "nbformat": 4,
 "nbformat_minor": 2
}
